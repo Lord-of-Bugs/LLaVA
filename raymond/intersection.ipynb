{
 "cells": [
  {
   "cell_type": "code",
   "execution_count": 1,
   "metadata": {},
   "outputs": [],
   "source": [
    "from glob import glob\n",
    "import pandas as pd\n",
    "import numpy as np\n",
    "import re\n",
    "from tqdm import tqdm\n",
    "import json\n",
    "import random"
   ]
  },
  {
   "cell_type": "code",
   "execution_count": 2,
   "metadata": {},
   "outputs": [],
   "source": [
    "csv_t2020_df = pd.read_csv('/home/llm-hackathon/Downloads/fixed-data-csv/all-reports-available-xrays-through2020-final.csv')\n",
    "csv_a2020_df = pd.read_csv('/home/llm-hackathon/Downloads/fixed-data-csv/all-reports-available-xrays-after2020-final.csv')\n",
    "csv_ids_through_2020 = csv_t2020_df['AccessionId']\n",
    "csv_ids_after2020 = csv_a2020_df['AccessionId']\n",
    "csv_t2020_df_indexed = csv_t2020_df.set_index('AccessionId')"
   ]
  },
  {
   "cell_type": "code",
   "execution_count": 3,
   "metadata": {},
   "outputs": [],
   "source": [
    "img_fp = '/data/UCSD_cxr/jpg/'\n",
    "img_ids = glob('*.jpg', root_dir=img_fp)\n",
    "img_ids.sort()\n",
    "img_acc_ids = [int(re.search(r'[0-9]+',img_id)[0]) for img_id in img_ids]"
   ]
  },
  {
   "cell_type": "code",
   "execution_count": 4,
   "metadata": {},
   "outputs": [
    {
     "name": "stdout",
     "output_type": "stream",
     "text": [
      "# Img Acc Ids, # ids thru 2020, # ids after 2020, # img in thru 2020, # img in after 2020\n"
     ]
    },
    {
     "data": {
      "text/plain": [
       "(23711, 59965, 66495, 23707, 25)"
      ]
     },
     "execution_count": 4,
     "metadata": {},
     "output_type": "execute_result"
    }
   ],
   "source": [
    "print('# Img Acc Ids, # ids thru 2020, # ids after 2020, # img in thru 2020, # img in after 2020')\n",
    "len(img_acc_ids), len(csv_ids_through_2020), len(csv_ids_after2020), len(set(csv_ids_through_2020).intersection(set(img_acc_ids))), len(set(csv_ids_after2020).intersection(set(img_acc_ids))), "
   ]
  },
  {
   "cell_type": "code",
   "execution_count": 37,
   "metadata": {},
   "outputs": [
    {
     "data": {
      "text/plain": [
       "[51579818, 50647186, 52811952, 50556838]"
      ]
     },
     "execution_count": 37,
     "metadata": {},
     "output_type": "execute_result"
    }
   ],
   "source": [
    "missing_ids = list(set(img_acc_ids) - set(csv_ids_through_2020).intersection(set(img_acc_ids)))\n",
    "missing_ids"
   ]
  },
  {
   "cell_type": "code",
   "execution_count": 38,
   "metadata": {},
   "outputs": [],
   "source": [
    "# shuffle ids\n",
    "random.seed(10)\n",
    "random.shuffle(img_ids)"
   ]
  },
  {
   "cell_type": "code",
   "execution_count": 39,
   "metadata": {},
   "outputs": [
    {
     "data": {
      "text/plain": [
       "21340"
      ]
     },
     "execution_count": 39,
     "metadata": {},
     "output_type": "execute_result"
    }
   ],
   "source": [
    "split_idx = len(img_ids) - len(img_ids)//10\n",
    "split_idx"
   ]
  },
  {
   "cell_type": "code",
   "execution_count": 43,
   "metadata": {},
   "outputs": [],
   "source": [
    "train_img_ids = img_ids[:split_idx]\n",
    "test_img_ids = img_ids[split_idx:]"
   ]
  },
  {
   "cell_type": "code",
   "execution_count": 44,
   "metadata": {},
   "outputs": [],
   "source": [
    "train_img_acc_ids = [int(re.search(r'[0-9]+',img_id)[0]) for img_id in train_img_ids]\n",
    "test_img_acc_ids = [int(re.search(r'[0-9]+',img_id)[0]) for img_id in test_img_ids]"
   ]
  },
  {
   "cell_type": "code",
   "execution_count": 45,
   "metadata": {},
   "outputs": [],
   "source": [
    "def generate_json(img_ids, save_json_fp, data_fp, question):\n",
    "    json_output = []\n",
    "\n",
    "    for img_id in tqdm(img_ids):\n",
    "        img_acc_id = int(re.search(r'[0-9]+', img_id)[0])\n",
    "        patient_id = img_id.split('.')[0]\n",
    "        if img_acc_id in csv_t2020_df_indexed.index:\n",
    "            prompt = csv_t2020_df_indexed.loc[img_acc_id, 'prompt'] + question\n",
    "            answer = csv_t2020_df_indexed.loc[img_acc_id, 'answer']\n",
    "\n",
    "            patient_data = {\n",
    "                \"id\": patient_id,\n",
    "                \"image\": data_fp + img_id,\n",
    "                \"conversations\": [\n",
    "                    {\n",
    "                        \"from\": \"human\",\n",
    "                        \"value\": f\"{prompt}\"\n",
    "                    },\n",
    "                    {\n",
    "                        \"from\": \"gpt\",\n",
    "                        \"value\": f\"{answer}\"\n",
    "\n",
    "                    }\n",
    "\n",
    "                ]\n",
    "            }\n",
    "\n",
    "            json_output.append(patient_data)\n",
    "\n",
    "    with open(save_json_fp, 'w') as f:\n",
    "        json.dump(json_output, f, indent=4)\n",
    "\n",
    "    print('Dumped JSON')"
   ]
  },
  {
   "cell_type": "code",
   "execution_count": 29,
   "metadata": {},
   "outputs": [
    {
     "name": "stderr",
     "output_type": "stream",
     "text": [
      "100%|██████████| 21340/21340 [00:00<00:00, 94685.76it/s]\n"
     ]
    },
    {
     "name": "stdout",
     "output_type": "stream",
     "text": [
      "Dumped JSON\n"
     ]
    }
   ],
   "source": [
    "# Generate train json\n",
    "# save_json_fp = '/home/llm-hackathon/LLaVA/data/train_patient_finding_impression.json' \n",
    "# data_fp = '/home/llm-hackathon/LLaVA/data/jpg/'\n",
    "# question = '\\nBased on AUTHOR and CLINICAL HISTORY, suppose you were a radiologist on X-RAY,  could you provide a detailed report from this chest X-ray?'\n",
    "# generate_json(train_img_ids, save_json_fp, data_fp, question)"
   ]
  },
  {
   "cell_type": "code",
   "execution_count": 30,
   "metadata": {},
   "outputs": [
    {
     "name": "stderr",
     "output_type": "stream",
     "text": [
      "100%|██████████| 2371/2371 [00:00<00:00, 75730.44it/s]"
     ]
    },
    {
     "name": "stdout",
     "output_type": "stream",
     "text": [
      "Dumped JSON\n"
     ]
    },
    {
     "name": "stderr",
     "output_type": "stream",
     "text": [
      "\n"
     ]
    }
   ],
   "source": [
    "# Generate test json \n",
    "# save_json_fp = '/home/llm-hackathon/LLaVA/data/test_patient_finding_impression.json' \n",
    "# data_fp = '/home/llm-hackathon/LLaVA/data/jpg/'\n",
    "# question = '\\nBased on AUTHOR and CLINICAL HISTORY, suppose you were a radiologist on X-RAY,  could you provide a detailed report from this chest X-ray?'\n",
    "# generate_json(test_img_ids, save_json_fp, data_fp, question)"
   ]
  },
  {
   "cell_type": "code",
   "execution_count": 1,
   "metadata": {},
   "outputs": [
    {
     "ename": "NameError",
     "evalue": "name 'tqdm' is not defined",
     "output_type": "error",
     "traceback": [
      "\u001b[0;31m---------------------------------------------------------------------------\u001b[0m",
      "\u001b[0;31mNameError\u001b[0m                                 Traceback (most recent call last)",
      "Cell \u001b[0;32mIn[1], line 7\u001b[0m\n\u001b[1;32m      4\u001b[0m save_json_fp \u001b[38;5;241m=\u001b[39m \u001b[38;5;124m'\u001b[39m\u001b[38;5;124m/home/llm-hackathon/LLaVA/data/patient_finding_impression.json\u001b[39m\u001b[38;5;124m'\u001b[39m\n\u001b[1;32m      5\u001b[0m question \u001b[38;5;241m=\u001b[39m \u001b[38;5;124m'\u001b[39m\u001b[38;5;130;01m\\n\u001b[39;00m\u001b[38;5;124mBased on AUTHOR and CLINICAL HISTORY, suppose you were a radiologist on X-RAY,  could you provide a detailed report from this chest X-ray?\u001b[39m\u001b[38;5;124m'\u001b[39m\n\u001b[0;32m----> 7\u001b[0m \u001b[38;5;28;01mfor\u001b[39;00m img_id \u001b[38;5;129;01min\u001b[39;00m \u001b[43mtqdm\u001b[49m(img_ids):\n\u001b[1;32m      8\u001b[0m     img_acc_id \u001b[38;5;241m=\u001b[39m \u001b[38;5;28mint\u001b[39m(re\u001b[38;5;241m.\u001b[39msearch(\u001b[38;5;124mr\u001b[39m\u001b[38;5;124m'\u001b[39m\u001b[38;5;124m[0-9]+\u001b[39m\u001b[38;5;124m'\u001b[39m, img_id)[\u001b[38;5;241m0\u001b[39m])\n\u001b[1;32m      9\u001b[0m     patient_id \u001b[38;5;241m=\u001b[39m img_id\u001b[38;5;241m.\u001b[39msplit(\u001b[38;5;124m'\u001b[39m\u001b[38;5;124m.\u001b[39m\u001b[38;5;124m'\u001b[39m)[\u001b[38;5;241m0\u001b[39m]\n",
      "\u001b[0;31mNameError\u001b[0m: name 'tqdm' is not defined"
     ]
    }
   ],
   "source": [
    "# Generate initial json\n",
    "data_fp = img_fp\n",
    "json_output = []\n",
    "save_json_fp = '/home/llm-hackathon/LLaVA/data/patient_finding_impression.json'\n",
    "question = '\\nBased on AUTHOR and CLINICAL HISTORY, suppose you were a radiologist on X-RAY,  could you provide a detailed report from this chest X-ray?'\n",
    "\n",
    "for img_id in tqdm(img_ids):\n",
    "    img_acc_id = int(re.search(r'[0-9]+', img_id)[0])\n",
    "    patient_id = img_id.split('.')[0]\n",
    "    if img_acc_id in csv_t2020_df_indexed.index:\n",
    "        prompt = csv_t2020_df_indexed.loc[img_acc_id, 'prompt'] + question\n",
    "        answer = csv_t2020_df_indexed.loc[img_acc_id, 'answer']\n",
    "\n",
    "        patient_data = {\n",
    "            \"id\": patient_id,\n",
    "            \"image\": data_fp + img_id,\n",
    "            \"conversations\": [\n",
    "                {\n",
    "                    \"from\": \"human\",\n",
    "                    \"value\": f\"{prompt}\"\n",
    "                },\n",
    "                {\n",
    "                    \"from\": \"gpt\",\n",
    "                    \"value\": f\"{answer}\"\n",
    "\n",
    "                }\n",
    "\n",
    "            ]\n",
    "        }\n",
    "\n",
    "        json_output.append(patient_data)\n",
    "\n",
    "with open(save_json_fp, 'w') as f:\n",
    "    json.dump(json_output, f, indent=4)\n",
    "\n",
    "print('Dumped JSON')"
   ]
  },
  {
   "cell_type": "code",
   "execution_count": 7,
   "metadata": {},
   "outputs": [
    {
     "name": "stderr",
     "output_type": "stream",
     "text": [
      "100%|██████████| 23711/23711 [00:00<00:00, 108745.99it/s]"
     ]
    },
    {
     "name": "stdout",
     "output_type": "stream",
     "text": [
      "Dumped JSON\n"
     ]
    },
    {
     "name": "stderr",
     "output_type": "stream",
     "text": [
      "\n"
     ]
    }
   ],
   "source": [
    "# Generate questions file.\n",
    "data_fp = img_fp\n",
    "save_json_fp = '/home/llm-hackathon/LLaVA/data/questions_finding_impression.jsonl'\n",
    "question = '\\nBased on AUTHOR and CLINICAL HISTORY, suppose you were a radiologist on X-RAY,  could you provide a detailed report from this chest X-ray?\\nAlso, identify from the following list of conditions--[Edema, Pneumonia, Pneumothorax, Atelectasis, Lung Lesion, Consolidation, Cardiomegaly, Pleural Effusion, Enlarged Cardiom, Lung Opacity]--and tell me which one(s) this X-ray shows.'\n",
    "with open(save_json_fp, 'w') as f:\n",
    "\n",
    "    for img_id in tqdm(img_ids):\n",
    "        img_acc_id = int(re.search(r'[0-9]+', img_id)[0])\n",
    "        patient_id = img_id.split('.')[0]\n",
    "        if img_acc_id in csv_t2020_df_indexed.index:\n",
    "            prompt = csv_t2020_df_indexed.loc[img_acc_id, 'prompt'] + question\n",
    "            patient_data = {\n",
    "                \"question_id\": patient_id,\n",
    "                \"image\": data_fp + img_id,\n",
    "                \"text\": f\"{prompt}\",\n",
    "                \"category\": \"\",\n",
    "            }\n",
    "            f.write(json.dumps(patient_data) + \"\\n\")\n",
    "\n",
    "\n",
    "print('Dumped JSON')"
   ]
  },
  {
   "cell_type": "code",
   "execution_count": 3,
   "metadata": {},
   "outputs": [],
   "source": [
    "answers = []\n",
    "with open(\"/home/llm-hackathon/LLaVA/data/answers_finding_impression.jsonl\", 'r') as f:\n",
    "    for line in f.readlines():\n",
    "        output = json.loads(line)\n",
    "        answers.append(output)"
   ]
  },
  {
   "cell_type": "code",
   "execution_count": 46,
   "metadata": {},
   "outputs": [],
   "source": [
    "test = pd.read_json('/home/llm-hackathon/LLaVA/data/test_patient_finding_impression.json')"
   ]
  },
  {
   "cell_type": "code",
   "execution_count": 47,
   "metadata": {},
   "outputs": [],
   "source": [
    "def break_convos(df, col1, col2):\n",
    "    '''takes in conversations column and breaks it up into separate columns for data frame'''\n",
    "    ser = df['conversations']\n",
    "    prompt = pd.json_normalize(ser.apply(lambda x: x[0]))['value']\n",
    "    impressions = pd.json_normalize(ser.apply(lambda x: x[1]))['value']\n",
    "\n",
    "    df[col1] = prompt\n",
    "    df[col2] = impressions\n",
    "\n",
    "    df = df.drop(axis=1, columns=['conversations'])\n",
    "\n",
    "    return df"
   ]
  },
  {
   "cell_type": "code",
   "execution_count": 48,
   "metadata": {},
   "outputs": [
    {
     "data": {
      "text/html": [
       "<div>\n",
       "<style scoped>\n",
       "    .dataframe tbody tr th:only-of-type {\n",
       "        vertical-align: middle;\n",
       "    }\n",
       "\n",
       "    .dataframe tbody tr th {\n",
       "        vertical-align: top;\n",
       "    }\n",
       "\n",
       "    .dataframe thead th {\n",
       "        text-align: right;\n",
       "    }\n",
       "</style>\n",
       "<table border=\"1\" class=\"dataframe\">\n",
       "  <thead>\n",
       "    <tr style=\"text-align: right;\">\n",
       "      <th></th>\n",
       "      <th>id</th>\n",
       "      <th>image</th>\n",
       "      <th>conversations</th>\n",
       "    </tr>\n",
       "  </thead>\n",
       "  <tbody>\n",
       "    <tr>\n",
       "      <th>0</th>\n",
       "      <td>Najitir_52925711</td>\n",
       "      <td>/home/llm-hackathon/LLaVA/data/jpg/Najitir_529...</td>\n",
       "      <td>[{'from': 'human', 'value': 'AUTHOR: Liau, Joy...</td>\n",
       "    </tr>\n",
       "    <tr>\n",
       "      <th>1</th>\n",
       "      <td>Lastrolu_52227435</td>\n",
       "      <td>/home/llm-hackathon/LLaVA/data/jpg/Lastrolu_52...</td>\n",
       "      <td>[{'from': 'human', 'value': 'AUTHOR: Jacobs, K...</td>\n",
       "    </tr>\n",
       "    <tr>\n",
       "      <th>2</th>\n",
       "      <td>Kuluegan_52668517</td>\n",
       "      <td>/home/llm-hackathon/LLaVA/data/jpg/Kuluegan_52...</td>\n",
       "      <td>[{'from': 'human', 'value': 'AUTHOR: Hahn, Lew...</td>\n",
       "    </tr>\n",
       "    <tr>\n",
       "      <th>3</th>\n",
       "      <td>Phinesdreek_50394671</td>\n",
       "      <td>/home/llm-hackathon/LLaVA/data/jpg/Phinesdreek...</td>\n",
       "      <td>[{'from': 'human', 'value': 'AUTHOR: Hsiao, Al...</td>\n",
       "    </tr>\n",
       "    <tr>\n",
       "      <th>4</th>\n",
       "      <td>Nenieri_52789390</td>\n",
       "      <td>/home/llm-hackathon/LLaVA/data/jpg/Nenieri_527...</td>\n",
       "      <td>[{'from': 'human', 'value': 'AUTHOR: Hahn, Lew...</td>\n",
       "    </tr>\n",
       "  </tbody>\n",
       "</table>\n",
       "</div>"
      ],
      "text/plain": [
       "                     id                                              image  \\\n",
       "0      Najitir_52925711  /home/llm-hackathon/LLaVA/data/jpg/Najitir_529...   \n",
       "1     Lastrolu_52227435  /home/llm-hackathon/LLaVA/data/jpg/Lastrolu_52...   \n",
       "2     Kuluegan_52668517  /home/llm-hackathon/LLaVA/data/jpg/Kuluegan_52...   \n",
       "3  Phinesdreek_50394671  /home/llm-hackathon/LLaVA/data/jpg/Phinesdreek...   \n",
       "4      Nenieri_52789390  /home/llm-hackathon/LLaVA/data/jpg/Nenieri_527...   \n",
       "\n",
       "                                       conversations  \n",
       "0  [{'from': 'human', 'value': 'AUTHOR: Liau, Joy...  \n",
       "1  [{'from': 'human', 'value': 'AUTHOR: Jacobs, K...  \n",
       "2  [{'from': 'human', 'value': 'AUTHOR: Hahn, Lew...  \n",
       "3  [{'from': 'human', 'value': 'AUTHOR: Hsiao, Al...  \n",
       "4  [{'from': 'human', 'value': 'AUTHOR: Hahn, Lew...  "
      ]
     },
     "execution_count": 48,
     "metadata": {},
     "output_type": "execute_result"
    }
   ],
   "source": [
    "test.head()"
   ]
  },
  {
   "cell_type": "code",
   "execution_count": 49,
   "metadata": {},
   "outputs": [
    {
     "data": {
      "text/html": [
       "<div>\n",
       "<style scoped>\n",
       "    .dataframe tbody tr th:only-of-type {\n",
       "        vertical-align: middle;\n",
       "    }\n",
       "\n",
       "    .dataframe tbody tr th {\n",
       "        vertical-align: top;\n",
       "    }\n",
       "\n",
       "    .dataframe thead th {\n",
       "        text-align: right;\n",
       "    }\n",
       "</style>\n",
       "<table border=\"1\" class=\"dataframe\">\n",
       "  <thead>\n",
       "    <tr style=\"text-align: right;\">\n",
       "      <th></th>\n",
       "      <th>id</th>\n",
       "      <th>image</th>\n",
       "      <th>col1</th>\n",
       "      <th>col2</th>\n",
       "    </tr>\n",
       "  </thead>\n",
       "  <tbody>\n",
       "    <tr>\n",
       "      <th>0</th>\n",
       "      <td>Najitir_52925711</td>\n",
       "      <td>/home/llm-hackathon/LLaVA/data/jpg/Najitir_529...</td>\n",
       "      <td>AUTHOR: Liau, Joy \\nCLINICAL HISTORY: Chest pa...</td>\n",
       "      <td>FINDINGS:\\nLow lung volumes with bibasal atele...</td>\n",
       "    </tr>\n",
       "    <tr>\n",
       "      <th>1</th>\n",
       "      <td>Lastrolu_52227435</td>\n",
       "      <td>/home/llm-hackathon/LLaVA/data/jpg/Lastrolu_52...</td>\n",
       "      <td>AUTHOR: Jacobs, Kathleen \\nCLINICAL HISTORY: B...</td>\n",
       "      <td>FINDINGS:\\nModerate lung expansion. Septal thi...</td>\n",
       "    </tr>\n",
       "    <tr>\n",
       "      <th>2</th>\n",
       "      <td>Kuluegan_52668517</td>\n",
       "      <td>/home/llm-hackathon/LLaVA/data/jpg/Kuluegan_52...</td>\n",
       "      <td>AUTHOR: Hahn, Lewis \\nCLINICAL HISTORY: Wheezi...</td>\n",
       "      <td>FINDINGS:\\nLines and Tubes: None\\nMediastinum:...</td>\n",
       "    </tr>\n",
       "    <tr>\n",
       "      <th>3</th>\n",
       "      <td>Phinesdreek_50394671</td>\n",
       "      <td>/home/llm-hackathon/LLaVA/data/jpg/Phinesdreek...</td>\n",
       "      <td>AUTHOR: Hsiao, Albert \\nCLINICAL HISTORY: Shor...</td>\n",
       "      <td>FINDINGS:\\nStable enlarged cardiomediastinal s...</td>\n",
       "    </tr>\n",
       "    <tr>\n",
       "      <th>4</th>\n",
       "      <td>Nenieri_52789390</td>\n",
       "      <td>/home/llm-hackathon/LLaVA/data/jpg/Nenieri_527...</td>\n",
       "      <td>AUTHOR: Hahn, Lewis \\nCLINICAL HISTORY: Chest ...</td>\n",
       "      <td>FINDINGS:\\nLines and Tubes: None\\nMediastinum:...</td>\n",
       "    </tr>\n",
       "    <tr>\n",
       "      <th>...</th>\n",
       "      <td>...</td>\n",
       "      <td>...</td>\n",
       "      <td>...</td>\n",
       "      <td>...</td>\n",
       "    </tr>\n",
       "    <tr>\n",
       "      <th>2365</th>\n",
       "      <td>Udusay_50669708</td>\n",
       "      <td>/home/llm-hackathon/LLaVA/data/jpg/Udusay_5066...</td>\n",
       "      <td>AUTHOR: Ladd, William \\nCLINICAL HISTORY: Ches...</td>\n",
       "      <td>FINDINGS:\\nSee impression.\\n\\nIMPRESSION: Norm...</td>\n",
       "    </tr>\n",
       "    <tr>\n",
       "      <th>2366</th>\n",
       "      <td>Jojoli_52118594</td>\n",
       "      <td>/home/llm-hackathon/LLaVA/data/jpg/Jojoli_5211...</td>\n",
       "      <td>AUTHOR: Weihe, Elizabeth \\nCLINICAL HISTORY: S...</td>\n",
       "      <td>FINDINGS:\\nMediastinum: Enlarged cardiac silho...</td>\n",
       "    </tr>\n",
       "    <tr>\n",
       "      <th>2367</th>\n",
       "      <td>Fequera_51962963</td>\n",
       "      <td>/home/llm-hackathon/LLaVA/data/jpg/Fequera_519...</td>\n",
       "      <td>AUTHOR: Friend, Christopher \\nCLINICAL HISTORY...</td>\n",
       "      <td>FINDINGS:\\nHeart size normal. Pulmonary vascul...</td>\n",
       "    </tr>\n",
       "    <tr>\n",
       "      <th>2368</th>\n",
       "      <td>Edaney_50990038</td>\n",
       "      <td>/home/llm-hackathon/LLaVA/data/jpg/Edaney_5099...</td>\n",
       "      <td>AUTHOR: Weihe, Elizabeth \\nCLINICAL HISTORY: C...</td>\n",
       "      <td>FINDINGS:    \\nSingle portable view of the che...</td>\n",
       "    </tr>\n",
       "    <tr>\n",
       "      <th>2369</th>\n",
       "      <td>Cifteebhem_51931482</td>\n",
       "      <td>/home/llm-hackathon/LLaVA/data/jpg/Cifteebhem_...</td>\n",
       "      <td>AUTHOR: Brouha, Sharon \\nCLINICAL HISTORY: Che...</td>\n",
       "      <td>FINDINGS:\\nSee IMPRESSION.\\n\\n\\nIMPRESSION:</td>\n",
       "    </tr>\n",
       "  </tbody>\n",
       "</table>\n",
       "<p>2370 rows × 4 columns</p>\n",
       "</div>"
      ],
      "text/plain": [
       "                        id                                              image  \\\n",
       "0         Najitir_52925711  /home/llm-hackathon/LLaVA/data/jpg/Najitir_529...   \n",
       "1        Lastrolu_52227435  /home/llm-hackathon/LLaVA/data/jpg/Lastrolu_52...   \n",
       "2        Kuluegan_52668517  /home/llm-hackathon/LLaVA/data/jpg/Kuluegan_52...   \n",
       "3     Phinesdreek_50394671  /home/llm-hackathon/LLaVA/data/jpg/Phinesdreek...   \n",
       "4         Nenieri_52789390  /home/llm-hackathon/LLaVA/data/jpg/Nenieri_527...   \n",
       "...                    ...                                                ...   \n",
       "2365       Udusay_50669708  /home/llm-hackathon/LLaVA/data/jpg/Udusay_5066...   \n",
       "2366       Jojoli_52118594  /home/llm-hackathon/LLaVA/data/jpg/Jojoli_5211...   \n",
       "2367      Fequera_51962963  /home/llm-hackathon/LLaVA/data/jpg/Fequera_519...   \n",
       "2368       Edaney_50990038  /home/llm-hackathon/LLaVA/data/jpg/Edaney_5099...   \n",
       "2369   Cifteebhem_51931482  /home/llm-hackathon/LLaVA/data/jpg/Cifteebhem_...   \n",
       "\n",
       "                                                   col1  \\\n",
       "0     AUTHOR: Liau, Joy \\nCLINICAL HISTORY: Chest pa...   \n",
       "1     AUTHOR: Jacobs, Kathleen \\nCLINICAL HISTORY: B...   \n",
       "2     AUTHOR: Hahn, Lewis \\nCLINICAL HISTORY: Wheezi...   \n",
       "3     AUTHOR: Hsiao, Albert \\nCLINICAL HISTORY: Shor...   \n",
       "4     AUTHOR: Hahn, Lewis \\nCLINICAL HISTORY: Chest ...   \n",
       "...                                                 ...   \n",
       "2365  AUTHOR: Ladd, William \\nCLINICAL HISTORY: Ches...   \n",
       "2366  AUTHOR: Weihe, Elizabeth \\nCLINICAL HISTORY: S...   \n",
       "2367  AUTHOR: Friend, Christopher \\nCLINICAL HISTORY...   \n",
       "2368  AUTHOR: Weihe, Elizabeth \\nCLINICAL HISTORY: C...   \n",
       "2369  AUTHOR: Brouha, Sharon \\nCLINICAL HISTORY: Che...   \n",
       "\n",
       "                                                   col2  \n",
       "0     FINDINGS:\\nLow lung volumes with bibasal atele...  \n",
       "1     FINDINGS:\\nModerate lung expansion. Septal thi...  \n",
       "2     FINDINGS:\\nLines and Tubes: None\\nMediastinum:...  \n",
       "3     FINDINGS:\\nStable enlarged cardiomediastinal s...  \n",
       "4     FINDINGS:\\nLines and Tubes: None\\nMediastinum:...  \n",
       "...                                                 ...  \n",
       "2365  FINDINGS:\\nSee impression.\\n\\nIMPRESSION: Norm...  \n",
       "2366  FINDINGS:\\nMediastinum: Enlarged cardiac silho...  \n",
       "2367  FINDINGS:\\nHeart size normal. Pulmonary vascul...  \n",
       "2368  FINDINGS:    \\nSingle portable view of the che...  \n",
       "2369       FINDINGS:\\nSee IMPRESSION.\\n\\n\\nIMPRESSION:   \n",
       "\n",
       "[2370 rows x 4 columns]"
      ]
     },
     "execution_count": 49,
     "metadata": {},
     "output_type": "execute_result"
    }
   ],
   "source": [
    "break_convos(test, 'col1', 'col2')"
   ]
  },
  {
   "cell_type": "code",
   "execution_count": 50,
   "metadata": {},
   "outputs": [],
   "source": [
    "test = test.drop(axis=1, columns=['col2', 'conversations'])"
   ]
  },
  {
   "cell_type": "code",
   "execution_count": 51,
   "metadata": {},
   "outputs": [
    {
     "data": {
      "text/html": [
       "<div>\n",
       "<style scoped>\n",
       "    .dataframe tbody tr th:only-of-type {\n",
       "        vertical-align: middle;\n",
       "    }\n",
       "\n",
       "    .dataframe tbody tr th {\n",
       "        vertical-align: top;\n",
       "    }\n",
       "\n",
       "    .dataframe thead th {\n",
       "        text-align: right;\n",
       "    }\n",
       "</style>\n",
       "<table border=\"1\" class=\"dataframe\">\n",
       "  <thead>\n",
       "    <tr style=\"text-align: right;\">\n",
       "      <th></th>\n",
       "      <th>id</th>\n",
       "      <th>image</th>\n",
       "      <th>col1</th>\n",
       "    </tr>\n",
       "  </thead>\n",
       "  <tbody>\n",
       "    <tr>\n",
       "      <th>1501</th>\n",
       "      <td>Joshuku_52000948</td>\n",
       "      <td>/home/llm-hackathon/LLaVA/data/jpg/Joshuku_520...</td>\n",
       "      <td>AUTHOR: Horowitz, Michael \\nCLINICAL HISTORY: ...</td>\n",
       "    </tr>\n",
       "    <tr>\n",
       "      <th>1502</th>\n",
       "      <td>Nefafog_52713974</td>\n",
       "      <td>/home/llm-hackathon/LLaVA/data/jpg/Nefafog_527...</td>\n",
       "      <td>AUTHOR: Kligerman, Seth \\nCLINICAL HISTORY: Ch...</td>\n",
       "    </tr>\n",
       "    <tr>\n",
       "      <th>1503</th>\n",
       "      <td>Quadupen_51674058</td>\n",
       "      <td>/home/llm-hackathon/LLaVA/data/jpg/Quadupen_51...</td>\n",
       "      <td>AUTHOR: Yen, Andrew \\nCLINICAL HISTORY: CHF\\nB...</td>\n",
       "    </tr>\n",
       "    <tr>\n",
       "      <th>1504</th>\n",
       "      <td>Coupadbreb_51056928</td>\n",
       "      <td>/home/llm-hackathon/LLaVA/data/jpg/Coupadbreb_...</td>\n",
       "      <td>AUTHOR: Jacobs, Kathleen \\nCLINICAL HISTORY: S...</td>\n",
       "    </tr>\n",
       "    <tr>\n",
       "      <th>1505</th>\n",
       "      <td>Putomo_51739064</td>\n",
       "      <td>/home/llm-hackathon/LLaVA/data/jpg/Putomo_5173...</td>\n",
       "      <td>AUTHOR: Jacobs, Kathleen \\nCLINICAL HISTORY: H...</td>\n",
       "    </tr>\n",
       "    <tr>\n",
       "      <th>...</th>\n",
       "      <td>...</td>\n",
       "      <td>...</td>\n",
       "      <td>...</td>\n",
       "    </tr>\n",
       "    <tr>\n",
       "      <th>2365</th>\n",
       "      <td>Udusay_50669708</td>\n",
       "      <td>/home/llm-hackathon/LLaVA/data/jpg/Udusay_5066...</td>\n",
       "      <td>AUTHOR: Ladd, William \\nCLINICAL HISTORY: Ches...</td>\n",
       "    </tr>\n",
       "    <tr>\n",
       "      <th>2366</th>\n",
       "      <td>Jojoli_52118594</td>\n",
       "      <td>/home/llm-hackathon/LLaVA/data/jpg/Jojoli_5211...</td>\n",
       "      <td>AUTHOR: Weihe, Elizabeth \\nCLINICAL HISTORY: S...</td>\n",
       "    </tr>\n",
       "    <tr>\n",
       "      <th>2367</th>\n",
       "      <td>Fequera_51962963</td>\n",
       "      <td>/home/llm-hackathon/LLaVA/data/jpg/Fequera_519...</td>\n",
       "      <td>AUTHOR: Friend, Christopher \\nCLINICAL HISTORY...</td>\n",
       "    </tr>\n",
       "    <tr>\n",
       "      <th>2368</th>\n",
       "      <td>Edaney_50990038</td>\n",
       "      <td>/home/llm-hackathon/LLaVA/data/jpg/Edaney_5099...</td>\n",
       "      <td>AUTHOR: Weihe, Elizabeth \\nCLINICAL HISTORY: C...</td>\n",
       "    </tr>\n",
       "    <tr>\n",
       "      <th>2369</th>\n",
       "      <td>Cifteebhem_51931482</td>\n",
       "      <td>/home/llm-hackathon/LLaVA/data/jpg/Cifteebhem_...</td>\n",
       "      <td>AUTHOR: Brouha, Sharon \\nCLINICAL HISTORY: Che...</td>\n",
       "    </tr>\n",
       "  </tbody>\n",
       "</table>\n",
       "<p>869 rows × 3 columns</p>\n",
       "</div>"
      ],
      "text/plain": [
       "                       id                                              image  \\\n",
       "1501     Joshuku_52000948  /home/llm-hackathon/LLaVA/data/jpg/Joshuku_520...   \n",
       "1502     Nefafog_52713974  /home/llm-hackathon/LLaVA/data/jpg/Nefafog_527...   \n",
       "1503    Quadupen_51674058  /home/llm-hackathon/LLaVA/data/jpg/Quadupen_51...   \n",
       "1504  Coupadbreb_51056928  /home/llm-hackathon/LLaVA/data/jpg/Coupadbreb_...   \n",
       "1505      Putomo_51739064  /home/llm-hackathon/LLaVA/data/jpg/Putomo_5173...   \n",
       "...                   ...                                                ...   \n",
       "2365      Udusay_50669708  /home/llm-hackathon/LLaVA/data/jpg/Udusay_5066...   \n",
       "2366      Jojoli_52118594  /home/llm-hackathon/LLaVA/data/jpg/Jojoli_5211...   \n",
       "2367     Fequera_51962963  /home/llm-hackathon/LLaVA/data/jpg/Fequera_519...   \n",
       "2368      Edaney_50990038  /home/llm-hackathon/LLaVA/data/jpg/Edaney_5099...   \n",
       "2369  Cifteebhem_51931482  /home/llm-hackathon/LLaVA/data/jpg/Cifteebhem_...   \n",
       "\n",
       "                                                   col1  \n",
       "1501  AUTHOR: Horowitz, Michael \\nCLINICAL HISTORY: ...  \n",
       "1502  AUTHOR: Kligerman, Seth \\nCLINICAL HISTORY: Ch...  \n",
       "1503  AUTHOR: Yen, Andrew \\nCLINICAL HISTORY: CHF\\nB...  \n",
       "1504  AUTHOR: Jacobs, Kathleen \\nCLINICAL HISTORY: S...  \n",
       "1505  AUTHOR: Jacobs, Kathleen \\nCLINICAL HISTORY: H...  \n",
       "...                                                 ...  \n",
       "2365  AUTHOR: Ladd, William \\nCLINICAL HISTORY: Ches...  \n",
       "2366  AUTHOR: Weihe, Elizabeth \\nCLINICAL HISTORY: S...  \n",
       "2367  AUTHOR: Friend, Christopher \\nCLINICAL HISTORY...  \n",
       "2368  AUTHOR: Weihe, Elizabeth \\nCLINICAL HISTORY: C...  \n",
       "2369  AUTHOR: Brouha, Sharon \\nCLINICAL HISTORY: Che...  \n",
       "\n",
       "[869 rows x 3 columns]"
      ]
     },
     "execution_count": 51,
     "metadata": {},
     "output_type": "execute_result"
    }
   ],
   "source": [
    "test = test.iloc[1501:]\n",
    "test"
   ]
  },
  {
   "cell_type": "code",
   "execution_count": 59,
   "metadata": {},
   "outputs": [
    {
     "data": {
      "text/plain": [
       "'/data/UCSD_cxr/jpg/Joshuku_52000948.jpg'"
      ]
     },
     "execution_count": 59,
     "metadata": {},
     "output_type": "execute_result"
    }
   ],
   "source": [
    "(img_fp + '/' + (test.iloc[0]['image']).split('/')[-1])"
   ]
  },
  {
   "cell_type": "code",
   "execution_count": 61,
   "metadata": {},
   "outputs": [],
   "source": [
    "#test['image'] = test['image'].apply(lambda x: img_fp + '/' + (x.split('/'))[-1])1"
   ]
  },
  {
   "cell_type": "code",
   "execution_count": 74,
   "metadata": {},
   "outputs": [
    {
     "name": "stderr",
     "output_type": "stream",
     "text": [
      "  0%|          | 0/869 [00:00<?, ?it/s]\r100%|██████████| 869/869 [00:00<00:00, 68313.19it/s]"
     ]
    },
    {
     "name": "stdout",
     "output_type": "stream",
     "text": [
      "Dumped JSON\n"
     ]
    },
    {
     "name": "stderr",
     "output_type": "stream",
     "text": [
      "\n"
     ]
    }
   ],
   "source": [
    "data_fp = img_fp + '/'\n",
    "save_json_fp = '/home/llm-hackathon/LLaVA/data/partial_test_questions_finding_impression.jsonl'#'/home/llm-hackathon/LLaVA/data/test_questions_finding_impression.jsonl'\n",
    "question = '\\nBased on AUTHOR and CLINICAL HISTORY, suppose you were a radiologist on X-RAY,  could you provide a detailed report from this chest X-ray?'\n",
    "with open(save_json_fp, 'w') as f:\n",
    "\n",
    "    for img_id in tqdm(test['id']):\n",
    "        img_acc_id = int(re.search(r'[0-9]+', img_id)[0])\n",
    "        patient_id = img_id.split('.')[0]\n",
    "        if img_acc_id in csv_t2020_df_indexed.index:\n",
    "            prompt = csv_t2020_df_indexed.loc[img_acc_id, 'prompt'] + question\n",
    "            patient_data = {\n",
    "                \"question_id\": patient_id,\n",
    "                \"image\": data_fp + img_id + '.jpg',\n",
    "                \"text\": f\"{prompt}\",\n",
    "                \"category\": \"\",\n",
    "            }\n",
    "            f.write(json.dumps(patient_data) + \"\\n\")\n",
    "\n",
    "\n",
    "print('Dumped JSON')"
   ]
  },
  {
   "cell_type": "code",
   "execution_count": 65,
   "metadata": {},
   "outputs": [
    {
     "data": {
      "text/plain": [
       "869"
      ]
     },
     "execution_count": 65,
     "metadata": {},
     "output_type": "execute_result"
    }
   ],
   "source": [
    "len(set(test['id']).difference(set(img_ids)))"
   ]
  }
 ],
 "metadata": {
  "kernelspec": {
   "display_name": "datalite_env",
   "language": "python",
   "name": "python3"
  },
  "language_info": {
   "codemirror_mode": {
    "name": "ipython",
    "version": 3
   },
   "file_extension": ".py",
   "mimetype": "text/x-python",
   "name": "python",
   "nbconvert_exporter": "python",
   "pygments_lexer": "ipython3",
   "version": "3.10.13"
  },
  "vscode": {
   "interpreter": {
    "hash": "1e2aac413067c67fe83fdcb656a7403f13c3bbd115ee7f918faf6e0b97136a50"
   }
  }
 },
 "nbformat": 4,
 "nbformat_minor": 2
}
